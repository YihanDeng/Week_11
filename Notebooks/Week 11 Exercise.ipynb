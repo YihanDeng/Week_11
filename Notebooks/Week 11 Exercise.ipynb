{
 "cells": [
  {
   "cell_type": "markdown",
   "id": "b1480ff1-f2a6-4eae-8f70-8d5112cd52e1",
   "metadata": {},
   "source": [
    "# Week 11 Exercise\n",
    "\n",
    "In this notebook exercise, we will have three different cases to practice your learning outcomes in the synchronous session. The demono notebook is available in this link. Please don't worry if you can finish this in class, but please remember to submit your final notebook in the following submission point. It is important for your to receive feedback about this notebook from the instructor as this is helpful in supporting your assignment. "
   ]
  },
  {
   "cell_type": "code",
   "execution_count": null,
   "id": "a3775b12-a30c-4047-a308-b5fbb2399e31",
   "metadata": {},
   "outputs": [],
   "source": [
    "# Importing all libries we used in this notebook\n",
    "\n",
    "import pandas as pd\n",
    "import seaborn as sns\n",
    "import statsmodels.formula.api as smf\n",
    "import statsmodels.api as sm\n",
    "from statsmodels.stats.outliers_influence import variance_inflation_factor # using package of testing VIF in statsmodels\n",
    "from statsmodels.formula.api import ols\n",
    "import matplotlib.pyplot as plt\n",
    "import numpy as np"
   ]
  },
  {
   "cell_type": "markdown",
   "id": "cc22e57b-beec-4bdb-97ad-94ef820ef453",
   "metadata": {},
   "source": [
    "## Case 1 - MBA Data\n",
    "\n",
    "<center><img src=\"../Image/businessweek.png\" width=600 height=400 /></center>\n",
    "\n",
    "Consider the data for Business Week’s top U.S. MBA programs in `Excercise_1.csv`. The csv file is available in the data folder of the repo, so please use similar document path to _read_ the csv file. \n",
    "\n",
    "Use these data to estimate a multiple regression model to assess whether there is a relationship between the enroll-ment and the following explanatory variables: (a) thepercentage of international students, (b) the percentageof female students, (c) the percentage of Asian Americanstudents, (d) the percentage of minority students, and (e) the resident tuition and fees at these business schools.\n",
    "\n",
    "Hints of the data analysis process:\n",
    "\n",
    "1. Loading the data from correct document/folder path - `ExData`\n",
    "2. Data preparation - renaming variable and cleaning the NaN\n",
    "3. Data analysis - using the sm regression method not the smf with formula api\n",
    "4. Data interpretation - check the demo notebook to interpret the VIF values"
   ]
  },
  {
   "cell_type": "code",
   "execution_count": null,
   "id": "f1e30806-ef65-4105-ba8e-5fc56487a986",
   "metadata": {},
   "outputs": [],
   "source": [
    "# 1 loading the data to a new dataframe you may named it as df_MBA (Solution)\n"
   ]
  },
  {
   "cell_type": "code",
   "execution_count": null,
   "id": "4c8a129a-bbbc-42e0-8780-371c8928fd5c",
   "metadata": {},
   "outputs": [],
   "source": [
    "# 2 renaming the variable names that are required in this case study (solution)\n"
   ]
  },
  {
   "cell_type": "code",
   "execution_count": null,
   "id": "08547173-8809-49cd-aeef-5a2a34a4eff3",
   "metadata": {},
   "outputs": [],
   "source": [
    "# 3 droping the missing values use dropna function to the dataframe (solution)\n"
   ]
  },
  {
   "cell_type": "code",
   "execution_count": null,
   "id": "82c7ca25-0ede-42ed-9228-84188649c872",
   "metadata": {},
   "outputs": [],
   "source": [
    "# 4a building your regression model via the new approch I introduced (solution)\n"
   ]
  },
  {
   "cell_type": "code",
   "execution_count": null,
   "id": "2a1577e8-d540-446f-9452-7bb4ece425cb",
   "metadata": {},
   "outputs": [],
   "source": [
    "# 4b calculating the VIF values\n",
    "\n",
    "# using the vif function to obtain the vif value of the independent variables\n",
    "\n",
    "\n",
    "# creating a new dataframe to report the results\n"
   ]
  },
  {
   "cell_type": "markdown",
   "id": "82d94785-7347-4886-a423-344ed3cd7c08",
   "metadata": {},
   "source": [
    "### Question 1\n",
    "Determine whether each of the regression coefficientsfor the explanatory variables in this model is statisti-cally different from zero at the5%significance level.Summarize your findings.\n",
    "\n",
    "Please type in you answer below:\n",
    "\n",
    "_______________________________________________"
   ]
  },
  {
   "cell_type": "markdown",
   "id": "59326c7c-680f-4990-9e43-203945c2b5fb",
   "metadata": {},
   "source": [
    "### Question 2\n",
    "Is there evidence of multicollinearity in this model? Explain why or why not?\n",
    "\n",
    "Please type in you answer below:\n",
    "\n",
    "_______________________________________________"
   ]
  },
  {
   "cell_type": "markdown",
   "id": "a67bc786-4563-4f60-9cbc-8ca08fa9f911",
   "metadata": {},
   "source": [
    "## Case 2 Photography Shop (Time series data)\n",
    "\n",
    "The file `Exercise_2.csv` contains monthly sales for a photography studio and the price charged per portrait duringeach month. \n",
    "\n",
    "Use regression to estimate an equation for predicting the current month’s sales from last month’s sales and the current month’s price. \n",
    "\n",
    "In this example, we will experience a new method to make the prediction better for the 'time-lagged' effect. Considering the influence of certain practices or company's investment will take time, the effect of independent variables could be lagged. To estimate such effect in the regression model, we can create a lagged variable for the analysis. To create a lagged variable in pandas, we can use the `shift` function. \n",
    "\n",
    "For example, if we have a dataframe called `df` and we want to lag the variable of `Satisfaction` for 1 index (all the observations on Satisfaction will lag one row), we can use the below syntax:\n",
    "\n",
    "`df['lagSatisfaction']=df['Satisfaction'].shift(1)`"
   ]
  },
  {
   "cell_type": "code",
   "execution_count": null,
   "id": "6c46577e-d3e1-41b8-be72-6449548fc950",
   "metadata": {},
   "outputs": [],
   "source": [
    "# 1 loading the data to a new dataframe you may named it as df_Photography (Solution)\n"
   ]
  },
  {
   "cell_type": "code",
   "execution_count": null,
   "id": "b743e897-184e-462d-beb9-f74a9cefbdc5",
   "metadata": {},
   "outputs": [],
   "source": [
    "# 2 Using the above example to create a time lagged variable (solution)\n",
    "\n",
    "# Hints - check observation format and drop NaN\n"
   ]
  },
  {
   "cell_type": "code",
   "execution_count": null,
   "id": "47a26d50-2bb3-4841-9ae1-e50615f23090",
   "metadata": {},
   "outputs": [],
   "source": [
    "# Building a regression model for predicting the current month's sales from last month's sales and current month's price\n",
    "\n",
    "# Using residual  plot to check the assumption of Nonnormality of Residuals \n"
   ]
  },
  {
   "cell_type": "code",
   "execution_count": null,
   "id": "1f5c636a-1406-492f-b689-de052c7709eb",
   "metadata": {},
   "outputs": [],
   "source": [
    "# Checking the VIF again\n",
    "\n",
    "# using the vif function to obtain the vif value of the independent variables\n",
    "\n",
    "# creating a new dataframe to report the results\n"
   ]
  },
  {
   "cell_type": "markdown",
   "id": "37bef241-735a-4a66-a1f6-853c9091d5a8",
   "metadata": {},
   "source": [
    "### Question 1\n",
    "\n",
    "Discuss how you can tell whether multicollinearity, or heteroscedasticity might be aproblem. Please refer to the Week 11 Lecture Demo - 1.2.1 Assumption 3 and 2.0 Multicollinearity.\n",
    "\n",
    "Please type in you answer below:\n",
    "\n",
    "_______________________________________________"
   ]
  },
  {
   "cell_type": "code",
   "execution_count": null,
   "id": "9031ceb6-022d-416f-b28b-cd62b0609f35",
   "metadata": {},
   "outputs": [],
   "source": [
    "# (Solution)\n",
    "# Hint: creating a new dataframe with Price value and LagSales value and assigning a constant values\n"
   ]
  },
  {
   "cell_type": "markdown",
   "id": "a780d19f-25dd-48ec-b811-c4c7e49eedf7",
   "metadata": {},
   "source": [
    "### Question 2\n",
    "\n",
    "If the price of a portrait during month 21 is $30, predict month 21 sales.\n",
    "\n",
    "Please type in you answer below:\n",
    "\n",
    "_______________________________________________"
   ]
  },
  {
   "cell_type": "markdown",
   "id": "236f6b5a-2135-4494-95ea-c80c2b37172e",
   "metadata": {},
   "source": [
    "## 03-Additional Case in Preparing the Instructor's Data\n",
    "\n",
    "The following exercise is relevant to the Instructor's data preparation for the further analysis. While you are allowed to modify the original csv directly, I hope you can use the code purely to finish the data preparation. There are three different points I would like you to experience:\n",
    "\n",
    "1. Creating a subset of the sample based on certain conditions;\n",
    "2. Lagging the bariable in a panel dataset.\n",
    "\n"
   ]
  },
  {
   "cell_type": "markdown",
   "id": "a15b521a-e503-4861-8dea-9107be78c771",
   "metadata": {},
   "source": [
    "### 03-1 Creating a new dataframe based on certain conditions\n",
    "\n",
    "In order to select rows that based on the conditional `value` on certain columns, we can simply use the pandas function of `.loc` the argument of `==`. An example of the code is shown below:\n",
    "\n",
    "`df.loc[df['column_name'] == value]`\n",
    "\n",
    "Combining multiple conditions, we can the function of `.betwee`:\n",
    "\n",
    "`df = df[(df['column_name'] >= A) & (df['column_name'] <= B)]`\n"
   ]
  },
  {
   "cell_type": "code",
   "execution_count": null,
   "id": "7372a01a-438b-4903-9fd2-b100c3863704",
   "metadata": {},
   "outputs": [],
   "source": [
    "# Example - identifying a group of companies in the dataset that is in the industry of Metal Mining (SIC - 1000)\n",
    "# Creating a new dataframe - df_Mining_Company that only consists of the Metal Mining compnies\n",
    "\n",
    "df = pd.read_csv('../ExData/Sample 1_CSV_S&P1500_Raw Dataset_Data Analytics in Business Assignment_2021.csv')\n",
    "df_Mining_Company = df.loc[df['SIC Code'] == 1000]\n",
    "df_Mining_Company"
   ]
  },
  {
   "cell_type": "markdown",
   "id": "cd28b2c6-ad12-4c60-85ba-26b7ddf6644d",
   "metadata": {},
   "source": [
    "We can also use two-digt SIC Code to define the industry and create a competitor set of the companies. There is a higherachy structure to define the industry sector from the SIC code. Click [here](https://siccode.com/sic-code/20-39/manufacturing) for more information. \n",
    "\n",
    "For exmaple, if we consider the whole manufacturing sector this will contains all the company with SIC codes value in the range between 20xx to 39xx. Here, 20 and 39 represent a higher level of the industry cluster. \n",
    "\n",
    "With these information, can you define a new dataframe with all the manufacturing companies in S&P 1500?"
   ]
  },
  {
   "cell_type": "code",
   "execution_count": null,
   "id": "807186a0-d313-4f17-80ba-39eddb3e60c0",
   "metadata": {},
   "outputs": [],
   "source": [
    "# Using the information and example above to create a manufacturing companies observations dataframe (Solution)\n"
   ]
  },
  {
   "cell_type": "markdown",
   "id": "95ee3a48-ce72-458c-b105-2fe7303652b2",
   "metadata": {},
   "source": [
    "### 03-2 Lagging the data across multiple observations\n",
    "\n",
    "You may find the S&P 1500 is a panel data set with multiple observations and time series data. Panel data is a dataset in which the behavior of entities are observed across time. When considering casual inference, for certain practices and investments as an example, will take time to make the effects. For example, the investment of R&D will not immediately make the effect on current year financial performance (i.e. Tobin's Q). To build a more robust regression model, we may consider a time lagged for the dependent variable.\n",
    "\n",
    "Similar to the syntax from Case-02, we can use the `.shift()` function to create a new lagged variable. But the following methods I introduce is slightly different, there are several observations, but manageable because only one variable needs to be lagged. \n",
    "\n",
    "First, we need to reoganise the dataframe through sorting out sequence, based on Ticker and Year.\n",
    "\n",
    "We can use the `.sort_values` function. Below is the example, if we have a dataframe name `df_old` with variables `A` and `B`:\n",
    "\n",
    "`df_new = df_old.sort_values(by='A', 'B')`\n",
    "\n",
    "With the above syntax, the sequence of the rows will be reorganised as follows: If values in Variable A is equals, then it will sort the values of Variable B (ascending by default). "
   ]
  },
  {
   "cell_type": "code",
   "execution_count": null,
   "id": "ebd7404d-6b92-4e0b-964e-1bcbf35e3658",
   "metadata": {},
   "outputs": [],
   "source": [
    "# Sorting the dataframe of S&P 1500 based on Ticker and Year\n",
    "df_new = df.sort_values(by=['Ticker','Year'])\n",
    "df_new.head(20)"
   ]
  },
  {
   "cell_type": "markdown",
   "id": "72406e94-02c7-4492-bf88-73f5a8aaade4",
   "metadata": {},
   "source": [
    "Next we can use the `.shift()` function to make a one year lag for a given variables.\n",
    "\n",
    "Hint: If we directly shift the value, some observations may have the data from a different company. Therefore, you will need to use `.grouby()` function to specify the shifting.\n",
    "\n",
    "Pandas groupby is an inbuilt method that is used for grouping data objects into Series (columns) or DataFrames (a group of Series) based on particular indicators. The groupby in Python makes the management of datasets easier since you can put related records into groups.\n",
    "\n",
    "If we `grouby` the ticker/company name, the shift will stop and restart for individual group rather than shiftting continously in a whole dataframe. \n",
    "\n",
    "Below is the example syntax to enable us grouping variable of `Name` and shifting 1 row for variable `B` then create a new variable `B_lagged`:\n",
    "\n",
    "`df['B_Lagged'] = df.groupby('Name')['B'].shift(1)`"
   ]
  },
  {
   "cell_type": "code",
   "execution_count": null,
   "id": "d5b80763-ae80-4b84-8275-c59049682409",
   "metadata": {},
   "outputs": [],
   "source": [
    "# Creating a one-year lagged variable for Return on Assets with the .shift function and grouby 'Ticker' (solution)\n",
    "\n"
   ]
  }
 ],
 "metadata": {
  "kernelspec": {
   "display_name": "Python 3 (ipykernel)",
   "language": "python",
   "name": "python3"
  },
  "language_info": {
   "codemirror_mode": {
    "name": "ipython",
    "version": 3
   },
   "file_extension": ".py",
   "mimetype": "text/x-python",
   "name": "python",
   "nbconvert_exporter": "python",
   "pygments_lexer": "ipython3",
   "version": "3.9.8"
  }
 },
 "nbformat": 4,
 "nbformat_minor": 5
}
