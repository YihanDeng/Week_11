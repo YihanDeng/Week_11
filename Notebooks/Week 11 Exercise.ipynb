{
 "cells": [
  {
   "cell_type": "markdown",
   "id": "b1480ff1-f2a6-4eae-8f70-8d5112cd52e1",
   "metadata": {},
   "source": [
    "# Week 11 Exercise\n",
    "\n",
    "In this notebook exercise, we will have three different cases to practice your learning outcomes in the synchronous session. The demono notebook is available in this link. Please don't worry if you can finish this in class, but please remember to submit your final notebook in the following submission point. It is important for your to receive feedback about this notebook from the instructor as this is helpful in supporting your assignment. "
   ]
  },
  {
   "cell_type": "code",
   "execution_count": null,
   "id": "a3775b12-a30c-4047-a308-b5fbb2399e31",
   "metadata": {},
   "outputs": [],
   "source": [
    "# Importing all libries we used in this notebook\n",
    "\n",
    "import pandas as pd\n",
    "import seaborn as sns\n",
    "import statsmodels.formula.api as smf\n",
    "import statsmodels.api as sm\n",
    "from statsmodels.stats.outliers_influence import variance_inflation_factor # using package of testing VIF in statsmodels\n",
    "from statsmodels.formula.api import ols\n",
    "import matplotlib.pyplot as plt\n",
    "import numpy as np"
   ]
  },
  {
   "cell_type": "markdown",
   "id": "cc22e57b-beec-4bdb-97ad-94ef820ef453",
   "metadata": {},
   "source": [
    "## Case 1 - MBA Data\n",
    "\n",
    "<center><img src=\"../Image/businessweek.png\" width=600 height=400 /></center>\n",
    "\n",
    "Consider the data for Business Week’s top U.S. MBA programs in `Excercise_1.csv`. The csv file is available in the data folder of the repo, so please use similar document path to _read_ the csv file. \n",
    "\n",
    "Use these data to estimate a multiple regression model to assess whether there is a relationship between the enroll-ment and the following explanatory variables: (a) thepercentage of international students, (b) the percentageof female students, (c) the percentage of Asian Americanstudents, (d) the percentage of minority students, and (e) the resident tuition and fees at these business schools.\n",
    "\n",
    "Hints of the data analysis process:\n",
    "\n",
    "1. Loading the data from correct document/folder path - `ExData`\n",
    "2. Data preparation - renaming variable and cleaning the NaN\n",
    "3. Data analysis - using the sm regression method not the smf with formula api\n",
    "4. Data interpretation - check the demo notebook to interpret the VIF values"
   ]
  },
  {
   "cell_type": "code",
   "execution_count": null,
   "id": "f1e30806-ef65-4105-ba8e-5fc56487a986",
   "metadata": {},
   "outputs": [],
   "source": [
    "# 1 loading the data to a new dataframe you may named it as df_MBA (Solution)\n",
    "df_MBA = pd.read_csv('../ExData/Exercise_1.csv')\n",
    "df_MBA.head()"
   ]
  },
  {
   "cell_type": "code",
   "execution_count": null,
   "id": "4c8a129a-bbbc-42e0-8780-371c8928fd5c",
   "metadata": {},
   "outputs": [],
   "source": [
    "# 2 renaming the variable names that are required in this case study (solution)\n",
    "df_MBA = df_MBA.rename(columns={'Pct International':'Pct_International', \n",
    "                                'Pct Female':'Pct_Female', \n",
    "                                'Pct Asian American':'Pct_Asian_American',\n",
    "                                'Pct Minority':'Pct_Minority', 'Resident Tuition, Fees':'Resident_Tuition'})\n",
    "df_MBA.head()"
   ]
  },
  {
   "cell_type": "code",
   "execution_count": null,
   "id": "08547173-8809-49cd-aeef-5a2a34a4eff3",
   "metadata": {},
   "outputs": [],
   "source": [
    "# 3 droping the missing values use dropna function to the dataframe (solution)\n",
    "df_MBA = df_MBA.dropna()"
   ]
  },
  {
   "cell_type": "code",
   "execution_count": null,
   "id": "82c7ca25-0ede-42ed-9228-84188649c872",
   "metadata": {},
   "outputs": [],
   "source": [
    "# 4a building your regression model via the new approch I introduced (solution)\n",
    "\n",
    "y = df_MBA.Enrollment\n",
    "X = df_MBA[[\"Pct_International\",\"Pct_Female\",\"Pct_Asian_American\",\"Pct_Minority\",\"Resident_Tuition\"]].assign(const=1)\n",
    "\n",
    "results = sm.OLS(y, X).fit()\n",
    "print(results.summary())"
   ]
  },
  {
   "cell_type": "code",
   "execution_count": null,
   "id": "2a1577e8-d540-446f-9452-7bb4ece425cb",
   "metadata": {},
   "outputs": [],
   "source": [
    "# 4b calculating the VIF values\n",
    "\n",
    "# using the vif function to obtain the vif value of the independent variables\n",
    "\n",
    "vif = [variance_inflation_factor(exog=X.values, exog_idx=i) for i in range(X.shape[1])]\n",
    "\n",
    "# creating a new dataframe to report the results\n",
    "vif_table = pd.DataFrame({'coef_name': X.columns, 'vif': np.around(vif,3)})\n",
    "print(vif_table)"
   ]
  },
  {
   "cell_type": "markdown",
   "id": "82d94785-7347-4886-a423-344ed3cd7c08",
   "metadata": {},
   "source": [
    "### Question 1\n",
    "Determine whether each of the regression coefficientsfor the explanatory variables in this model is statisti-cally different from zero at the5%significance level.Summarize your findings.\n",
    "\n",
    "Please type in you answer below:\n",
    "\n",
    "_______________________________________________"
   ]
  },
  {
   "cell_type": "markdown",
   "id": "59326c7c-680f-4990-9e43-203945c2b5fb",
   "metadata": {},
   "source": [
    "### Question 2\n",
    "Is there evidence of multicollinearity in this model? Explain why or why not?\n",
    "\n",
    "Please type in you answer below:\n",
    "\n",
    "_______________________________________________"
   ]
  },
  {
   "cell_type": "markdown",
   "id": "a67bc786-4563-4f60-9cbc-8ca08fa9f911",
   "metadata": {},
   "source": [
    "## Case 2 Photography Shop (Time series data)\n",
    "\n",
    "The file `Exercise_2.csv` contains monthly sales for a photography studio and the price charged per portrait duringeach month. \n",
    "\n",
    "Use regression to estimate an equation for predicting the current month’s sales from last month’s sales and the current month’s price. \n",
    "\n",
    "In this example, we will experience a new method to make the prediction better for the 'time-lagged' effect. Considering the influence of certain practices or company's investment will take time, the effect of independent variables could be lagged. To estimate such effect in the regression model, we can create a lagged variable for the analysis. To create a lagged variable in pandas, we can use the `shift` function. \n",
    "\n",
    "For example, if we have a dataframe called `df` and we want to lag the variable of `Satisfaction` for 1 index (all the observations on Satisfaction will lag one row), we can use the below syntax:\n",
    "\n",
    "`df['lagSatisfaction']=df['Satisfaction'].shift(1)`"
   ]
  },
  {
   "cell_type": "code",
   "execution_count": null,
   "id": "b743e897-184e-462d-beb9-f74a9cefbdc5",
   "metadata": {},
   "outputs": [],
   "source": [
    "df_Photo = pd.read_csv('../ExData/Exercise_2.csv')\n",
    "\n",
    "# Using the above example to create a time lagged variable (solution)\n",
    "# Hints - check observation format and drop NaN\n",
    "\n",
    "def format(Format):\n",
    "    return(int(Format.replace('$','').replace(',','')))\n",
    "\n",
    "df_Photo['Sales'] = df_Photo['Sales'].apply(format)\n",
    "df_Photo['LagSales'] = df_Photo['Sales'].shift(1) \n",
    "df_Photo['Price'] = df_Photo['Price'].apply(format)\n",
    "\n",
    "df_Photo=df_Photo.dropna()\n",
    "\n",
    "df_Photo"
   ]
  },
  {
   "cell_type": "code",
   "execution_count": null,
   "id": "47a26d50-2bb3-4841-9ae1-e50615f23090",
   "metadata": {},
   "outputs": [],
   "source": [
    "# Building a regression model for predicting the current month's sales from last month's sales and current month's price\n",
    "\n",
    "y = df_Photo.Sales\n",
    "X = df_Photo[[\"Price\",\"LagSales\"]].assign(const=1)\n",
    "\n",
    "results = sm.OLS(y, X).fit()\n",
    "print(results.summary())"
   ]
  },
  {
   "cell_type": "markdown",
   "id": "3883ff2d-b76f-4273-a276-3b3be2223bcf",
   "metadata": {},
   "source": [
    "### Question 1\n",
    "\n",
    "Discuss how you can tell whether multicollinearity, or heteroscedasticity might be aproblem. Please refer to the Week 11 Lecture Demo - 1.2.1 Assumption 3 and 2.0 Multicollinearity.\n",
    "\n",
    "Please type in you answer below:\n",
    "\n",
    "_______________________________________________"
   ]
  },
  {
   "cell_type": "code",
   "execution_count": null,
   "id": "6eda3286-398b-4b3a-856d-5bff1f77c3e7",
   "metadata": {},
   "outputs": [],
   "source": [
    "# Using residual plot to check the heteroscedasticity\n",
    "\n",
    "sns.histplot(results.resid)"
   ]
  },
  {
   "cell_type": "code",
   "execution_count": null,
   "id": "1f5c636a-1406-492f-b689-de052c7709eb",
   "metadata": {},
   "outputs": [],
   "source": [
    "# Checking the VIF again\n",
    "\n",
    "# using the vif function to obtain the vif value of the independent variables\n",
    "\n",
    "vif = [variance_inflation_factor(exog=X.values, exog_idx=i) for i in range(X.shape[1])]\n",
    "\n",
    "# creating a new dataframe to report the results\n",
    "\n",
    "vif_table = pd.DataFrame({'coef_name': X.columns, 'vif': np.around(vif,3)})\n",
    "print(vif_table)"
   ]
  },
  {
   "cell_type": "markdown",
   "id": "e2dba5fd-6137-44da-ad72-57f61ef215fa",
   "metadata": {},
   "source": [
    "### Question 2\n",
    "\n",
    "If the price of a portrait during month 21 is $30, predict month 21 sales.\n",
    "\n",
    "Please type in you answer below:\n",
    "\n",
    "_______________________________________________"
   ]
  },
  {
   "cell_type": "code",
   "execution_count": null,
   "id": "9031ceb6-022d-416f-b28b-cd62b0609f35",
   "metadata": {},
   "outputs": [],
   "source": [
    "# (Solution)\n",
    "# Hint: creating a new dataframe with Price value and LagSales value and assigning a constant values\n",
    "\n",
    "data = {'Price':30,\n",
    "        'LagSales':907000},\n",
    "df = pd.DataFrame(data).assign(const=1)\n",
    "\n",
    "results.predict(df)"
   ]
  }
 ],
 "metadata": {
  "kernelspec": {
   "display_name": "Python 3 (ipykernel)",
   "language": "python",
   "name": "python3"
  },
  "language_info": {
   "codemirror_mode": {
    "name": "ipython",
    "version": 3
   },
   "file_extension": ".py",
   "mimetype": "text/x-python",
   "name": "python",
   "nbconvert_exporter": "python",
   "pygments_lexer": "ipython3",
   "version": "3.9.8"
  }
 },
 "nbformat": 4,
 "nbformat_minor": 5
}
